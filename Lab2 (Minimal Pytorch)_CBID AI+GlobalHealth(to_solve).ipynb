{
 "cells": [
  {
   "cell_type": "markdown",
   "metadata": {
    "id": "ijgnAf9Xn9rW"
   },
   "source": [
    "# LAB 2 Part B - Deep Computer Vision (Minimal Pytorch)\n",
    "\n",
    "The objective of this lab is to understand the fundamentals of Pytorch with the most minimal convolutional neural network we can make from scratch before approaching other deep learning architectures"
   ]
  },
  {
   "cell_type": "markdown",
   "metadata": {
    "id": "6IzsgbTzhotv"
   },
   "source": [
    "#### Project Info\n",
    "\n",
    " ->Copyright 2024 Luis R Soenksen\n",
    "\n",
    " ->Last Update: March 24, 2024\n",
    "\n",
    "```\n",
    "**Licensed under the Apache License, Version 2.0**\n",
    "You may not use this file except in compliance with the License. You may obtain a copy of the License at\n",
    "https://www.apache.org/licenses/LICENSE-2.0\n",
    "Unless required by applicable law or agreed to in writing, software distributed under the License is distributed on an \"AS IS\" BASIS, WITHOUT WARRANTIES OR CONDITIONS OF ANY KIND, either express or implied. See the License for the specific language governing permissions and limitations under the License.\n",
    "```\n",
    "\n",
    "<table class=\"tfo-notebook-buttons\" align=\"left\">\n",
    "  <td>\n",
    "    <a target=\"_blank\" href=\"https://colab.research.google.com/\"><img src=\"https://www.tensorflow.org/images/colab_logo_32px.png\" />Compatible with Google Colab</a>      \n",
    "    </td>\n",
    "  <td>\n",
    "    <a target=\"_blank\" href=\"https://github.com/lrsoenksen/\"><img src=\"https://www.tensorflow.org/images/GitHub-Mark-32px.png\" />Visit my GitHub</a>\n",
    "  </td>\n",
    "  <td>\n",
    "    <a href=\"https://pytorch.org\"><img src=\"https://upload.wikimedia.org/wikipedia/commons/thumb/c/c6/PyTorch_logo_black.svg/488px-PyTorch_logo_black.svg.png\" width=\"150px\"/>Built with Pytorch </a>\n",
    "  </td>\n",
    "</table>"
   ]
  },
  {
   "cell_type": "code",
   "execution_count": 1,
   "metadata": {
    "id": "hdUc7IG3n_EX"
   },
   "outputs": [],
   "source": [
    "import torch\n",
    "import torch.nn as nn\n",
    "import torch.nn.functional as F\n",
    "import torch.optim as optim\n",
    "from torchvision import datasets, transforms\n",
    "from torch.optim.lr_scheduler import ExponentialLR\n",
    "\n",
    "# Get CPU or GPU device for training\n",
    "device = \"cuda\" if torch.cuda.is_available() else \"cpu\"\n",
    "device = torch.device(device)"
   ]
  },
  {
   "cell_type": "code",
   "execution_count": 84,
   "metadata": {
    "id": "dvcDj6biVw3N"
   },
   "outputs": [],
   "source": [
    "'''\n",
    "Fill the in the missing code marked as # TO DO\n",
    "'''\n",
    "# Random seed for reproducibility\n",
    "seed = 7\n",
    "torch.manual_seed(seed)\n",
    "\n",
    "# Save the model at the end?\n",
    "save_model = False\n",
    "\n",
    "# Batch sizes for training and testing\n",
    "batch_size = 16                                                 #TO DO\n",
    "test_batch_size = 14\n",
    "\n",
    "# Training epochs\n",
    "n_epochs = 10                                                  #TO DO\n",
    "\n",
    "# Learning rate\n",
    "learning_rate = 0.01                                             #TO DO\n",
    "\n",
    "# Decay rate for adjusting the learning rate\n",
    "gamma = 0.7\n",
    "\n",
    "# How many batches before logging training status\n",
    "log_interval = 10\n",
    "\n",
    "# Number of target classes in the MNIST data\n",
    "num_classes = 10\n",
    "\n",
    "train_kwargs = {'batch_size': batch_size}\n",
    "test_kwargs = {'batch_size': test_batch_size}\n",
    "\n",
    "# CUDA settings\n",
    "if torch.cuda.is_available():\n",
    "    cuda_kwargs = {'num_workers': 1,\n",
    "                   'pin_memory': True,\n",
    "                   'shuffle': True}\n",
    "    train_kwargs.update(cuda_kwargs)\n",
    "    test_kwargs.update(cuda_kwargs)"
   ]
  },
  {
   "cell_type": "code",
   "execution_count": 85,
   "metadata": {
    "id": "QIUfqzekLRSd"
   },
   "outputs": [],
   "source": [
    "# The scaled mean and standard deviation of the MNIST dataset (precalculated)\n",
    "data_mean = 0.1307\n",
    "data_std = 0.3081\n",
    "\n",
    "# Convert input images to tensors and normalize\n",
    "transform=transforms.Compose([\n",
    "    transforms.ToTensor(),\n",
    "    transforms.Normalize(mean=[.5], std=[.5])\n",
    "    ])\n",
    "\n",
    "# Get the MNIST data from torchvision\n",
    "train = datasets.MNIST('../data', train=True, download=True,\n",
    "                    transform=transform)\n",
    "test = datasets.MNIST('../data', train=False,\n",
    "                    transform=transform)\n",
    "\n",
    "# Define the data loaders that will handle fetching of data\n",
    "train_loader = torch.utils.data.DataLoader(train, **train_kwargs)\n",
    "test_loader = torch.utils.data.DataLoader(test, **test_kwargs)"
   ]
  },
  {
   "cell_type": "code",
   "execution_count": 78,
   "metadata": {
    "id": "g6UHfpBlTW3D"
   },
   "outputs": [
    {
     "data": {
      "text/plain": [
       "<matplotlib.image.AxesImage at 0x2e4fa57d070>"
      ]
     },
     "execution_count": 78,
     "metadata": {},
     "output_type": "execute_result"
    },
    {
     "data": {
      "image/png": "[encoded data removed]",
      "text/plain": [
       "<Figure size 640x480 with 1 Axes>"
      ]
     },
     "metadata": {},
     "output_type": "display_data"
    }
   ],
   "source": [
    "# Display single sample of dataset\n",
    "import matplotlib.pyplot as plt\n",
    "plt.imshow(train.data[0].numpy().squeeze(), cmap='gray_r') # squeeze() removes dims of length one"
   ]
  },
  {
   "cell_type": "code",
   "execution_count": 79,
   "metadata": {
    "id": "oMsJZ1SQT7Er"
   },
   "outputs": [
    {
     "data": {
      "image/png": "[encoded data removed]",
      "text/plain": [
       "<Figure size 500x500 with 12 Axes>"
      ]
     },
     "metadata": {},
     "output_type": "display_data"
    }
   ],
   "source": [
    "# Display various examples of dataset sample\n",
    "plt.figure(figsize=(5,5))\n",
    "for k in range(12):\n",
    "    plt.subplot(3, 4, k+1)\n",
    "    plt.imshow(train.data[k], cmap='Greys')\n",
    "    plt.axis('off')\n",
    "plt.tight_layout()\n",
    "plt.show()"
   ]
  },
  {
   "cell_type": "code",
   "execution_count": 86,
   "metadata": {
    "id": "firvobxRVIgm"
   },
   "outputs": [],
   "source": [
    "# Define the architecture of the neural network\n",
    "class Net(nn.Module):\n",
    "    def __init__(self):\n",
    "        super(Net, self).__init__()\n",
    "        self.conv1 = nn.Conv2d(1, 32, kernel_size=3, stride=1, padding='valid')\n",
    "        self.conv2 = nn.Conv2d(32, 64, kernel_size=3, stride=1, padding='valid')\n",
    "        self.dropout1 = nn.Dropout(0.25)\n",
    "        self.dropout2 = nn.Dropout(0.5)\n",
    "        self.fc1 = nn.Linear(9216, 128)\n",
    "        self.fc2 = nn.Linear(128, num_classes)\n",
    "\n",
    "    def forward(self, x):\n",
    "        x = self.conv1(x)\n",
    "        x = F.relu(x)\n",
    "        x = self.conv2(x)\n",
    "        x = F.relu(x)\n",
    "        x = F.max_pool2d(x, 2)\n",
    "        x = self.dropout1(x)\n",
    "        x = torch.flatten(x, 1)\n",
    "        x = self.fc1(x)\n",
    "        x = F.relu(x)\n",
    "        x = self.dropout2(x)\n",
    "        x = self.fc2(x)\n",
    "        output = F.softmax(x, dim=1)\n",
    "        return output"
   ]
  },
  {
   "cell_type": "code",
   "execution_count": 87,
   "metadata": {
    "id": "pxG7nB1xVnYA"
   },
   "outputs": [],
   "source": [
    "'''\n",
    "Fill the in the missing code marked as # TO DO\n",
    "'''\n",
    "def train(model, device, train_loader, optimizer, epoch, log_interval):\n",
    "    model.train()\n",
    "    loss_fn = torch.nn.CrossEntropyLoss()\n",
    "    for batch_idx, (data, target) in enumerate(train_loader):\n",
    "        data, target = data.to(device), target.to(device)\n",
    "        optimizer.zero_grad()               #set gradients to zero for next iteration            #TO DO\n",
    "        output = model(data)                                                            #TO DO\n",
    "        loss = loss_fn(output, target) #calculate cross entropy loss                        #TO DO\n",
    "        loss.backward()                # compute gradients                                  #TO DO\n",
    "        optimizer.step()                # update model parameters                            #TO DO\n",
    "        if batch_idx % log_interval == 0:\n",
    "            print('Train Epoch: {} [{}/{} ({:.0f}%)]\\tLoss: {:.6f}'.format(\n",
    "                epoch, batch_idx * len(data), len(train_loader.dataset),\n",
    "                100. * batch_idx / len(train_loader), loss.item()))"
   ]
  },
  {
   "cell_type": "code",
   "execution_count": 88,
   "metadata": {
    "id": "jrTKi_uBVpLH"
   },
   "outputs": [],
   "source": [
    "'''\n",
    "Fill the in the missing code marked as # TO DO\n",
    "'''\n",
    "def test(model, device, test_loader):\n",
    "    model.eval()\n",
    "    test_loss = 0\n",
    "    correct = 0\n",
    "    with torch.no_grad():\n",
    "        for data, target in test_loader:\n",
    "            data, target = data.to(device), target.to(device)\n",
    "            output = model(data)\n",
    "            # sum up batch loss\n",
    "            test_loss += F.cross_entropy(output, target, reduction='sum').item()  #should be cross_entropy instead of nll_loss\n",
    "            # get the index of the max probability\n",
    "            pred = output.argmax(dim=1, keepdim=True)                                                           #TO DO\n",
    "            correct += pred.eq(target.view_as(pred)).sum().item()\n",
    "\n",
    "    test_loss /= len(test_loader.dataset)\n",
    "\n",
    "    print('\\nTest set: Average loss: {:.4f}, Accuracy: {}/{} ({:.0f}%)\\n'.format(\n",
    "        test_loss, correct, len(test_loader.dataset),\n",
    "        100. * correct / len(test_loader.dataset)))"
   ]
  },
  {
   "cell_type": "code",
   "execution_count": null,
   "metadata": {
    "id": "M00667mnZhJ2"
   },
   "outputs": [
    {
     "name": "stdout",
     "output_type": "stream",
     "text": [
      "Train Epoch: 1 [0/60000 (0%)]\tLoss: 2.303050\n",
      "Train Epoch: 1 [1600/60000 (3%)]\tLoss: 2.300311\n",
      "Train Epoch: 1 [3200/60000 (5%)]\tLoss: 2.295587\n",
      "Train Epoch: 1 [4800/60000 (8%)]\tLoss: 2.293747\n",
      "Train Epoch: 1 [6400/60000 (11%)]\tLoss: 2.287614\n",
      "Train Epoch: 1 [8000/60000 (13%)]\tLoss: 2.288661\n",
      "Train Epoch: 1 [9600/60000 (16%)]\tLoss: 2.278777\n",
      "Train Epoch: 1 [11200/60000 (19%)]\tLoss: 2.268352\n",
      "Train Epoch: 1 [12800/60000 (21%)]\tLoss: 2.183711\n",
      "Train Epoch: 1 [14400/60000 (24%)]\tLoss: 2.211418\n",
      "Train Epoch: 1 [16000/60000 (27%)]\tLoss: 2.176856\n",
      "Train Epoch: 1 [17600/60000 (29%)]\tLoss: 2.140721\n",
      "Train Epoch: 1 [19200/60000 (32%)]\tLoss: 2.101581\n",
      "Train Epoch: 1 [20800/60000 (35%)]\tLoss: 2.047981\n",
      "Train Epoch: 1 [22400/60000 (37%)]\tLoss: 1.981440\n",
      "Train Epoch: 1 [24000/60000 (40%)]\tLoss: 1.929249\n",
      "Train Epoch: 1 [25600/60000 (43%)]\tLoss: 1.810978\n",
      "Train Epoch: 1 [27200/60000 (45%)]\tLoss: 1.760763\n",
      "Train Epoch: 1 [28800/60000 (48%)]\tLoss: 1.733452\n",
      "Train Epoch: 1 [30400/60000 (51%)]\tLoss: 1.935282\n",
      "Train Epoch: 1 [32000/60000 (53%)]\tLoss: 1.702545\n",
      "Train Epoch: 1 [33600/60000 (56%)]\tLoss: 1.893886\n",
      "Train Epoch: 1 [35200/60000 (59%)]\tLoss: 1.764050\n",
      "Train Epoch: 1 [36800/60000 (61%)]\tLoss: 1.967260\n",
      "Train Epoch: 1 [38400/60000 (64%)]\tLoss: 1.710805\n",
      "Train Epoch: 1 [40000/60000 (67%)]\tLoss: 1.727931\n",
      "Train Epoch: 1 [41600/60000 (69%)]\tLoss: 1.818304\n",
      "Train Epoch: 1 [43200/60000 (72%)]\tLoss: 1.734768\n",
      "Train Epoch: 1 [44800/60000 (75%)]\tLoss: 1.736354\n",
      "Train Epoch: 1 [46400/60000 (77%)]\tLoss: 1.708698\n",
      "Train Epoch: 1 [48000/60000 (80%)]\tLoss: 1.648433\n",
      "Train Epoch: 1 [49600/60000 (83%)]\tLoss: 1.745716\n",
      "Train Epoch: 1 [51200/60000 (85%)]\tLoss: 1.615200\n",
      "Train Epoch: 1 [52800/60000 (88%)]\tLoss: 1.814744\n",
      "Train Epoch: 1 [54400/60000 (91%)]\tLoss: 1.630729\n",
      "Train Epoch: 1 [56000/60000 (93%)]\tLoss: 1.661837\n",
      "Train Epoch: 1 [57600/60000 (96%)]\tLoss: 1.567431\n",
      "Train Epoch: 1 [59200/60000 (99%)]\tLoss: 1.663088\n",
      "\n",
      "Test set: Average loss: 1.6517, Accuracy: 8260/10000 (83%)\n",
      "\n",
      "Train Epoch: 2 [0/60000 (0%)]\tLoss: 1.591583\n",
      "Train Epoch: 2 [1600/60000 (3%)]\tLoss: 1.738175\n",
      "Train Epoch: 2 [3200/60000 (5%)]\tLoss: 1.626107\n",
      "Train Epoch: 2 [4800/60000 (8%)]\tLoss: 1.571196\n",
      "Train Epoch: 2 [6400/60000 (11%)]\tLoss: 1.724230\n",
      "Train Epoch: 2 [8000/60000 (13%)]\tLoss: 1.751796\n",
      "Train Epoch: 2 [9600/60000 (16%)]\tLoss: 1.901461\n",
      "Train Epoch: 2 [11200/60000 (19%)]\tLoss: 1.715537\n",
      "Train Epoch: 2 [12800/60000 (21%)]\tLoss: 1.687188\n",
      "Train Epoch: 2 [14400/60000 (24%)]\tLoss: 1.711499\n",
      "Train Epoch: 2 [16000/60000 (27%)]\tLoss: 1.757194\n",
      "Train Epoch: 2 [17600/60000 (29%)]\tLoss: 1.615301\n",
      "Train Epoch: 2 [19200/60000 (32%)]\tLoss: 1.620151\n",
      "Train Epoch: 2 [20800/60000 (35%)]\tLoss: 1.566531\n",
      "Train Epoch: 2 [22400/60000 (37%)]\tLoss: 1.586972\n",
      "Train Epoch: 2 [24000/60000 (40%)]\tLoss: 1.552942\n",
      "Train Epoch: 2 [25600/60000 (43%)]\tLoss: 1.657294\n",
      "Train Epoch: 2 [27200/60000 (45%)]\tLoss: 1.576840\n",
      "Train Epoch: 2 [28800/60000 (48%)]\tLoss: 1.592717\n",
      "Train Epoch: 2 [30400/60000 (51%)]\tLoss: 1.928290\n",
      "Train Epoch: 2 [32000/60000 (53%)]\tLoss: 1.576780\n",
      "Train Epoch: 2 [33600/60000 (56%)]\tLoss: 1.652040\n",
      "Train Epoch: 2 [35200/60000 (59%)]\tLoss: 1.614855\n",
      "Train Epoch: 2 [36800/60000 (61%)]\tLoss: 1.884209\n",
      "Train Epoch: 2 [38400/60000 (64%)]\tLoss: 1.655377\n",
      "Train Epoch: 2 [40000/60000 (67%)]\tLoss: 1.630885\n",
      "Train Epoch: 2 [41600/60000 (69%)]\tLoss: 1.606373\n",
      "Train Epoch: 2 [43200/60000 (72%)]\tLoss: 1.705631\n",
      "Train Epoch: 2 [44800/60000 (75%)]\tLoss: 1.561780\n",
      "Train Epoch: 2 [46400/60000 (77%)]\tLoss: 1.611470\n",
      "Train Epoch: 2 [48000/60000 (80%)]\tLoss: 1.602082\n",
      "Train Epoch: 2 [49600/60000 (83%)]\tLoss: 1.609068\n",
      "Train Epoch: 2 [51200/60000 (85%)]\tLoss: 1.596814\n",
      "Train Epoch: 2 [52800/60000 (88%)]\tLoss: 1.776919\n",
      "Train Epoch: 2 [54400/60000 (91%)]\tLoss: 1.719576\n",
      "Train Epoch: 2 [56000/60000 (93%)]\tLoss: 1.544307\n",
      "Train Epoch: 2 [57600/60000 (96%)]\tLoss: 1.491661\n",
      "Train Epoch: 2 [59200/60000 (99%)]\tLoss: 1.546301\n",
      "\n",
      "Test set: Average loss: 1.5724, Accuracy: 9011/10000 (90%)\n",
      "\n",
      "Train Epoch: 3 [0/60000 (0%)]\tLoss: 1.583824\n",
      "Train Epoch: 3 [1600/60000 (3%)]\tLoss: 1.630929\n",
      "Train Epoch: 3 [3200/60000 (5%)]\tLoss: 1.595995\n",
      "Train Epoch: 3 [4800/60000 (8%)]\tLoss: 1.611611\n",
      "Train Epoch: 3 [6400/60000 (11%)]\tLoss: 1.474495\n",
      "Train Epoch: 3 [8000/60000 (13%)]\tLoss: 1.647634\n",
      "Train Epoch: 3 [9600/60000 (16%)]\tLoss: 1.710395\n",
      "Train Epoch: 3 [11200/60000 (19%)]\tLoss: 1.669411\n",
      "Train Epoch: 3 [12800/60000 (21%)]\tLoss: 1.647203\n",
      "Train Epoch: 3 [14400/60000 (24%)]\tLoss: 1.754727\n",
      "Train Epoch: 3 [16000/60000 (27%)]\tLoss: 1.657414\n",
      "Train Epoch: 3 [17600/60000 (29%)]\tLoss: 1.572546\n",
      "Train Epoch: 3 [19200/60000 (32%)]\tLoss: 1.643933\n",
      "Train Epoch: 3 [20800/60000 (35%)]\tLoss: 1.497288\n",
      "Train Epoch: 3 [22400/60000 (37%)]\tLoss: 1.570745\n",
      "Train Epoch: 3 [24000/60000 (40%)]\tLoss: 1.617730\n",
      "Train Epoch: 3 [25600/60000 (43%)]\tLoss: 1.568323\n",
      "Train Epoch: 3 [27200/60000 (45%)]\tLoss: 1.513182\n",
      "Train Epoch: 3 [28800/60000 (48%)]\tLoss: 1.597880\n",
      "Train Epoch: 3 [30400/60000 (51%)]\tLoss: 1.741765\n",
      "Train Epoch: 3 [32000/60000 (53%)]\tLoss: 1.536876\n",
      "Train Epoch: 3 [33600/60000 (56%)]\tLoss: 1.673436\n",
      "Train Epoch: 3 [35200/60000 (59%)]\tLoss: 1.619237\n",
      "Train Epoch: 3 [36800/60000 (61%)]\tLoss: 1.741200\n",
      "Train Epoch: 3 [38400/60000 (64%)]\tLoss: 1.709229\n",
      "Train Epoch: 3 [40000/60000 (67%)]\tLoss: 1.589755\n",
      "Train Epoch: 3 [41600/60000 (69%)]\tLoss: 1.631791\n",
      "Train Epoch: 3 [43200/60000 (72%)]\tLoss: 1.740299\n",
      "Train Epoch: 3 [44800/60000 (75%)]\tLoss: 1.472253\n",
      "Train Epoch: 3 [46400/60000 (77%)]\tLoss: 1.592582\n",
      "Train Epoch: 3 [48000/60000 (80%)]\tLoss: 1.569891\n",
      "Train Epoch: 3 [49600/60000 (83%)]\tLoss: 1.609070\n",
      "Train Epoch: 3 [51200/60000 (85%)]\tLoss: 1.580030\n",
      "Train Epoch: 3 [52800/60000 (88%)]\tLoss: 1.770440\n",
      "Train Epoch: 3 [54400/60000 (91%)]\tLoss: 1.582442\n",
      "Train Epoch: 3 [56000/60000 (93%)]\tLoss: 1.633519\n",
      "Train Epoch: 3 [57600/60000 (96%)]\tLoss: 1.475170\n",
      "Train Epoch: 3 [59200/60000 (99%)]\tLoss: 1.509979\n",
      "\n",
      "Test set: Average loss: 1.5522, Accuracy: 9157/10000 (92%)\n",
      "\n",
      "Train Epoch: 4 [0/60000 (0%)]\tLoss: 1.559225\n",
      "Train Epoch: 4 [1600/60000 (3%)]\tLoss: 1.669789\n",
      "Train Epoch: 4 [3200/60000 (5%)]\tLoss: 1.591922\n",
      "Train Epoch: 4 [4800/60000 (8%)]\tLoss: 1.576399\n",
      "Train Epoch: 4 [6400/60000 (11%)]\tLoss: 1.523155\n",
      "Train Epoch: 4 [8000/60000 (13%)]\tLoss: 1.679604\n",
      "Train Epoch: 4 [9600/60000 (16%)]\tLoss: 1.628856\n",
      "Train Epoch: 4 [11200/60000 (19%)]\tLoss: 1.756600\n",
      "Train Epoch: 4 [12800/60000 (21%)]\tLoss: 1.665790\n",
      "Train Epoch: 4 [14400/60000 (24%)]\tLoss: 1.617283\n",
      "Train Epoch: 4 [16000/60000 (27%)]\tLoss: 1.632269\n",
      "Train Epoch: 4 [17600/60000 (29%)]\tLoss: 1.584859\n",
      "Train Epoch: 4 [19200/60000 (32%)]\tLoss: 1.577772\n",
      "Train Epoch: 4 [20800/60000 (35%)]\tLoss: 1.489273\n",
      "Train Epoch: 4 [22400/60000 (37%)]\tLoss: 1.593563\n",
      "Train Epoch: 4 [24000/60000 (40%)]\tLoss: 1.590734\n",
      "Train Epoch: 4 [25600/60000 (43%)]\tLoss: 1.552270\n",
      "Train Epoch: 4 [27200/60000 (45%)]\tLoss: 1.571003\n",
      "Train Epoch: 4 [28800/60000 (48%)]\tLoss: 1.585979\n",
      "Train Epoch: 4 [30400/60000 (51%)]\tLoss: 1.674198\n",
      "Train Epoch: 4 [32000/60000 (53%)]\tLoss: 1.556119\n",
      "Train Epoch: 4 [33600/60000 (56%)]\tLoss: 1.672064\n",
      "Train Epoch: 4 [35200/60000 (59%)]\tLoss: 1.594077\n",
      "Train Epoch: 4 [36800/60000 (61%)]\tLoss: 1.675094\n",
      "Train Epoch: 4 [38400/60000 (64%)]\tLoss: 1.656953\n",
      "Train Epoch: 4 [40000/60000 (67%)]\tLoss: 1.639676\n",
      "Train Epoch: 4 [41600/60000 (69%)]\tLoss: 1.572084\n",
      "Train Epoch: 4 [43200/60000 (72%)]\tLoss: 1.669394\n",
      "Train Epoch: 4 [44800/60000 (75%)]\tLoss: 1.470546\n",
      "Train Epoch: 4 [46400/60000 (77%)]\tLoss: 1.652183\n",
      "Train Epoch: 4 [48000/60000 (80%)]\tLoss: 1.528197\n",
      "Train Epoch: 4 [49600/60000 (83%)]\tLoss: 1.563491\n",
      "Train Epoch: 4 [51200/60000 (85%)]\tLoss: 1.499320\n",
      "Train Epoch: 4 [52800/60000 (88%)]\tLoss: 1.696187\n",
      "Train Epoch: 4 [54400/60000 (91%)]\tLoss: 1.589995\n",
      "Train Epoch: 4 [56000/60000 (93%)]\tLoss: 1.593459\n",
      "Train Epoch: 4 [57600/60000 (96%)]\tLoss: 1.508255\n",
      "Train Epoch: 4 [59200/60000 (99%)]\tLoss: 1.538627\n",
      "\n",
      "Test set: Average loss: 1.5439, Accuracy: 9238/10000 (92%)\n",
      "\n",
      "Train Epoch: 5 [0/60000 (0%)]\tLoss: 1.495081\n",
      "Train Epoch: 5 [1600/60000 (3%)]\tLoss: 1.677831\n",
      "Train Epoch: 5 [3200/60000 (5%)]\tLoss: 1.586155\n",
      "Train Epoch: 5 [4800/60000 (8%)]\tLoss: 1.560869\n",
      "Train Epoch: 5 [6400/60000 (11%)]\tLoss: 1.548660\n",
      "Train Epoch: 5 [8000/60000 (13%)]\tLoss: 1.649032\n",
      "Train Epoch: 5 [9600/60000 (16%)]\tLoss: 1.643550\n",
      "Train Epoch: 5 [11200/60000 (19%)]\tLoss: 1.694071\n",
      "Train Epoch: 5 [12800/60000 (21%)]\tLoss: 1.624183\n",
      "Train Epoch: 5 [14400/60000 (24%)]\tLoss: 1.678813\n",
      "Train Epoch: 5 [16000/60000 (27%)]\tLoss: 1.641543\n",
      "Train Epoch: 5 [17600/60000 (29%)]\tLoss: 1.470862\n",
      "Train Epoch: 5 [19200/60000 (32%)]\tLoss: 1.692910\n",
      "Train Epoch: 5 [20800/60000 (35%)]\tLoss: 1.544952\n",
      "Train Epoch: 5 [22400/60000 (37%)]\tLoss: 1.599866\n",
      "Train Epoch: 5 [24000/60000 (40%)]\tLoss: 1.587885\n",
      "Train Epoch: 5 [25600/60000 (43%)]\tLoss: 1.530256\n",
      "Train Epoch: 5 [27200/60000 (45%)]\tLoss: 1.571403\n",
      "Train Epoch: 5 [28800/60000 (48%)]\tLoss: 1.554454\n",
      "Train Epoch: 5 [30400/60000 (51%)]\tLoss: 1.555650\n",
      "Train Epoch: 5 [32000/60000 (53%)]\tLoss: 1.519553\n",
      "Train Epoch: 5 [33600/60000 (56%)]\tLoss: 1.607126\n",
      "Train Epoch: 5 [35200/60000 (59%)]\tLoss: 1.554783\n",
      "Train Epoch: 5 [36800/60000 (61%)]\tLoss: 1.685248\n",
      "Train Epoch: 5 [38400/60000 (64%)]\tLoss: 1.592685\n",
      "Train Epoch: 5 [40000/60000 (67%)]\tLoss: 1.631350\n",
      "Train Epoch: 5 [41600/60000 (69%)]\tLoss: 1.612464\n",
      "Train Epoch: 5 [43200/60000 (72%)]\tLoss: 1.667831\n",
      "Train Epoch: 5 [44800/60000 (75%)]\tLoss: 1.482405\n",
      "Train Epoch: 5 [46400/60000 (77%)]\tLoss: 1.646637\n",
      "Train Epoch: 5 [48000/60000 (80%)]\tLoss: 1.564568\n",
      "Train Epoch: 5 [49600/60000 (83%)]\tLoss: 1.549178\n",
      "Train Epoch: 5 [51200/60000 (85%)]\tLoss: 1.511619\n",
      "Train Epoch: 5 [52800/60000 (88%)]\tLoss: 1.729892\n",
      "Train Epoch: 5 [54400/60000 (91%)]\tLoss: 1.534925\n",
      "Train Epoch: 5 [56000/60000 (93%)]\tLoss: 1.567816\n",
      "Train Epoch: 5 [57600/60000 (96%)]\tLoss: 1.479385\n",
      "Train Epoch: 5 [59200/60000 (99%)]\tLoss: 1.558587\n",
      "\n",
      "Test set: Average loss: 1.5395, Accuracy: 9269/10000 (93%)\n",
      "\n",
      "Train Epoch: 6 [0/60000 (0%)]\tLoss: 1.516199\n",
      "Train Epoch: 6 [1600/60000 (3%)]\tLoss: 1.647530\n",
      "Train Epoch: 6 [3200/60000 (5%)]\tLoss: 1.603756\n",
      "Train Epoch: 6 [4800/60000 (8%)]\tLoss: 1.511641\n",
      "Train Epoch: 6 [6400/60000 (11%)]\tLoss: 1.506873\n",
      "Train Epoch: 6 [8000/60000 (13%)]\tLoss: 1.635713\n",
      "Train Epoch: 6 [9600/60000 (16%)]\tLoss: 1.631836\n",
      "Train Epoch: 6 [11200/60000 (19%)]\tLoss: 1.651090\n",
      "Train Epoch: 6 [12800/60000 (21%)]\tLoss: 1.550846\n",
      "Train Epoch: 6 [14400/60000 (24%)]\tLoss: 1.685691\n",
      "Train Epoch: 6 [16000/60000 (27%)]\tLoss: 1.608111\n",
      "Train Epoch: 6 [17600/60000 (29%)]\tLoss: 1.572342\n",
      "Train Epoch: 6 [19200/60000 (32%)]\tLoss: 1.599560\n",
      "Train Epoch: 6 [20800/60000 (35%)]\tLoss: 1.499127\n",
      "Train Epoch: 6 [22400/60000 (37%)]\tLoss: 1.605262\n",
      "Train Epoch: 6 [24000/60000 (40%)]\tLoss: 1.525169\n",
      "Train Epoch: 6 [25600/60000 (43%)]\tLoss: 1.530069\n",
      "Train Epoch: 6 [27200/60000 (45%)]\tLoss: 1.592003\n",
      "Train Epoch: 6 [28800/60000 (48%)]\tLoss: 1.561819\n",
      "Train Epoch: 6 [30400/60000 (51%)]\tLoss: 1.557782\n",
      "Train Epoch: 6 [32000/60000 (53%)]\tLoss: 1.518272\n",
      "Train Epoch: 6 [33600/60000 (56%)]\tLoss: 1.559314\n",
      "Train Epoch: 6 [35200/60000 (59%)]\tLoss: 1.554243\n",
      "Train Epoch: 6 [36800/60000 (61%)]\tLoss: 1.616482\n",
      "Train Epoch: 6 [38400/60000 (64%)]\tLoss: 1.637525\n",
      "Train Epoch: 6 [40000/60000 (67%)]\tLoss: 1.587392\n",
      "Train Epoch: 6 [41600/60000 (69%)]\tLoss: 1.579168\n",
      "Train Epoch: 6 [43200/60000 (72%)]\tLoss: 1.688884\n",
      "Train Epoch: 6 [44800/60000 (75%)]\tLoss: 1.485629\n",
      "Train Epoch: 6 [46400/60000 (77%)]\tLoss: 1.608554\n",
      "Train Epoch: 6 [48000/60000 (80%)]\tLoss: 1.556223\n",
      "Train Epoch: 6 [49600/60000 (83%)]\tLoss: 1.565417\n",
      "Train Epoch: 6 [51200/60000 (85%)]\tLoss: 1.539987\n",
      "Train Epoch: 6 [52800/60000 (88%)]\tLoss: 1.711542\n",
      "Train Epoch: 6 [54400/60000 (91%)]\tLoss: 1.650479\n",
      "Train Epoch: 6 [56000/60000 (93%)]\tLoss: 1.547927\n",
      "Train Epoch: 6 [57600/60000 (96%)]\tLoss: 1.479503\n",
      "Train Epoch: 6 [59200/60000 (99%)]\tLoss: 1.465403\n"
     ]
    }
   ],
   "source": [
    "'''\n",
    "Fill the in the missing code marked as # TO DO\n",
    "'''\n",
    "# Send the model to the device (CPU or GPU)\n",
    "model = Net().to(device)\n",
    "\n",
    "# Define the optimizer to user for gradient descent\n",
    "optimizer = optim.Adadelta(model.parameters(), lr=learning_rate)\n",
    "\n",
    "# Shrinks the learning rate by gamma every step_size\n",
    "scheduler = ExponentialLR(optimizer, gamma=gamma)\n",
    "\n",
    "# Train the model\n",
    "for epoch in range(1, n_epochs + 1):\n",
    "    model.train()\n",
    "    train(model, device, train_loader, optimizer, epoch, log_interval=100)                                                      #call train()          #TO DO\n",
    "    model.eval()\n",
    "    test(model, device, test_loader)                                                      #call test()           #TO DO\n",
    "    scheduler.step()                                                    #adjust learning rate  #TO DO"
   ]
  },
  {
   "cell_type": "code",
   "execution_count": 27,
   "metadata": {
    "id": "CsuYPI3hYUiJ"
   },
   "outputs": [],
   "source": [
    "if save_model:\n",
    "    torch.save(model.state_dict(), \"mnist_cnn_pytorch.ckpt\")"
   ]
  },
  {
   "cell_type": "code",
   "execution_count": 28,
   "metadata": {
    "id": "hlZh5qpnDNbb"
   },
   "outputs": [],
   "source": [
    "'''\n",
    "Fill the in the missing code marked as # TO DO\n",
    "'''\n",
    "import matplotlib.pyplot as plt\n",
    "def visualize_and_predict(model, device, data_loader):\n",
    "    model.eval()\n",
    "    with torch.no_grad():\n",
    "        # Extract the first batch of images and labels\n",
    "        data, target = next(iter(data_loader))\n",
    "        # Select the first image and label\n",
    "        img, label = data[0], target[0]\n",
    "\n",
    "        # Visualize the image\n",
    "        plt.imshow(img.squeeze(), cmap='gray')\n",
    "        plt.title(f'Actual Label: {label.item()}')\n",
    "        plt.show()\n",
    "\n",
    "        # Run inference\n",
    "        img = img.to(device)           #specify device for input tensor                                          #TO DO\n",
    "        img = img.unsqueeze(0)          #Add batch dimension to input tensor                                     #TO DO\n",
    "        output = model(img)        #Add batch dimension to input tensor and pass to model                    #TO DO\n",
    "        pred = output.argmax(dim=1,keepdim=True)          #get predicted class using argmax()                                       #TO DO\n",
    "\n",
    "        print(f'Predicted Label: {pred.item()}')"
   ]
  },
  {
   "cell_type": "code",
   "execution_count": 30,
   "metadata": {
    "id": "WakWPaycDNbb"
   },
   "outputs": [
    {
     "data": {
      "image/png": "[encoded data removed]",
      "text/plain": [
       "<Figure size 640x480 with 1 Axes>"
      ]
     },
     "metadata": {},
     "output_type": "display_data"
    },
    {
     "name": "stdout",
     "output_type": "stream",
     "text": [
      "Predicted Label: 7\n"
     ]
    }
   ],
   "source": [
    "visualize_and_predict(model, device, test_loader)"
   ]
  },
  {
   "cell_type": "markdown",
   "metadata": {
    "id": "Mrye5YBBhyy7"
   },
   "source": [
    "------------------------------------------------------\n",
    "------------------------------------------------------"
   ]
  }
 ],
 "metadata": {
  "accelerator": "GPU",
  "colab": {
   "provenance": [
    {
     "file_id": "1M6pnuP1v2oaS55vEYLCLboyHizxJgZK4",
     "timestamp": 1717347299645
    }
   ]
  },
  "kernelspec": {
   "display_name": "Python 3",
   "language": "python",
   "name": "python3"
  },
  "language_info": {
   "codemirror_mode": {
    "name": "ipython",
    "version": 3
   },
   "file_extension": ".py",
   "mimetype": "text/x-python",
   "name": "python",
   "nbconvert_exporter": "python",
   "pygments_lexer": "ipython3",
   "version": "3.12.10"
  }
 },
 "nbformat": 4,
 "nbformat_minor": 4
}
